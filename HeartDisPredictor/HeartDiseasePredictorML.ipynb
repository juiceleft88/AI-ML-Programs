{
 "cells": [
  {
   "cell_type": "code",
   "execution_count": 176,
   "id": "3e111bd4",
   "metadata": {},
   "outputs": [],
   "source": [
    "#predict the probability of Heart Disease \n",
    "import pandas as pd\n",
    "import numpy as np\n",
    "\n",
    "#A\n",
    "\n",
    "heart_short_df = pd.read_csv(\"https://github.com/mpourhoma/CS4661/raw/master/Heart_short.csv\")\n",
    "\n",
    "\n",
    "#heart_short_df[0::10]\n"
   ]
  },
  {
   "cell_type": "code",
   "execution_count": 177,
   "id": "144b02e5",
   "metadata": {},
   "outputs": [],
   "source": [
    "#Creating a feature matrix and label vector (AHD)\n",
    "feature_cols = ['Age', 'RestBP', 'Chol','RestECG', 'MaxHR', 'Oldpeak']\n",
    "\n",
    "#assigning list of selected features above to X\n",
    "X = heart_short_df[feature_cols]\n",
    "\n",
    "#printing first 5 rows to test\n",
    "X.head()\n",
    "\n",
    "#creating label vector with label AHD (has heart disease or not)\n",
    "y = heart_short_df['AHD']\n",
    "\n",
    "#checking label vector\n",
    "#y[::10]\n",
    "\n",
    "#normalizing (scaling) features to be used in the dataset split\n",
    "from sklearn.preprocessing import StandardScaler\n",
    "sc = StandardScaler()\n",
    "sc.fit(X)\n",
    "sc_heart_df = sc.transform(X)\n",
    "Z = sc_heart_df\n",
    "\n",
    "#sc_heart_df[0::10]"
   ]
  },
  {
   "cell_type": "code",
   "execution_count": 178,
   "id": "98c448ce",
   "metadata": {},
   "outputs": [],
   "source": [
    "#Split the dataset into testing and training sets\n",
    "\n",
    "from sklearn.model_selection import train_test_split\n",
    "\n",
    "X_train, X_test, y_train, y_test = train_test_split (Z, y, test_size=0.25, random_state=3)"
   ]
  },
  {
   "cell_type": "code",
   "execution_count": 179,
   "id": "6568e49e",
   "metadata": {},
   "outputs": [
    {
     "name": "stdout",
     "output_type": "stream",
     "text": [
      "Logistic Regression accuracy is :  0.7183098591549296\n"
     ]
    }
   ],
   "source": [
    "#Using Logistic Regression classifier to predict Heart Disease occurence based on data in part C, then report accuracy\n",
    "\n",
    "from sklearn.linear_model import LogisticRegression\n",
    "from sklearn.metrics import accuracy_score\n",
    "\n",
    "#instantiating object of 'Logistic Regression' class\n",
    "heart_logreg = LogisticRegression()\n",
    "\n",
    "#Training the predictive model\n",
    "heart_logreg.fit(X_train, y_train)\n",
    "\n",
    "#testing predictive model\n",
    "y_predict_lr = heart_logreg.predict(X_test)\n",
    "\n",
    "#calculating and printing accuracy\n",
    "accuracy_lr = accuracy_score(y_test, y_predict_lr)\n",
    "\n",
    "print('Logistic Regression accuracy is : ', accuracy_lr)"
   ]
  },
  {
   "cell_type": "code",
   "execution_count": 180,
   "id": "ed936820",
   "metadata": {},
   "outputs": [
    {
     "name": "stdout",
     "output_type": "stream",
     "text": [
      "[0.50152811 0.44846777 0.60485848 0.60363525 0.1536715  0.22957916\n",
      " 0.26514628 0.13451391 0.64470136 0.3292041  0.90441626 0.08075189\n",
      " 0.70903558 0.56956399 0.33191847 0.14075209 0.88401518 0.31675549\n",
      " 0.88760037 0.66514189 0.14587202 0.13623252 0.77503511 0.07089471\n",
      " 0.89081309 0.42556635 0.27073103 0.56788083 0.32247083 0.22399912\n",
      " 0.69887296 0.89135203 0.82441949 0.10841795 0.18993298 0.98870386\n",
      " 0.93273544 0.26741294 0.79519141 0.48550866 0.282992   0.69413125\n",
      " 0.33667486 0.17922533 0.96610847 0.66271057 0.12528777 0.14343511\n",
      " 0.63172735 0.40237782 0.37035602 0.80530746 0.03913305 0.76936798\n",
      " 0.11167265 0.19466654 0.11244591 0.3568092  0.16280918 0.22948696\n",
      " 0.72249443 0.17159489 0.23296984 0.33753157 0.24405164 0.12456215\n",
      " 0.30484273 0.07298196 0.09408331 0.22991179 0.08301102]\n"
     ]
    }
   ],
   "source": [
    "#Estimating the probability (likelihood) of Each label (both for 0 and 1):\n",
    "y_predict_prob_lr = heart_logreg.predict_proba(X_test)\n",
    "\n",
    "#print(y_predict_lr)\n",
    "\n",
    "#printing the estimated likelihood of both labels for the testing set (0 and 1, or no heart disease and yes heart disease respectively)\n",
    "#print(y_predict_prob_lr)\n",
    "\n",
    "#printing the \"estimated likelyhood of label=1\" (means the likelihood the patient has heart disease)\n",
    "print(y_predict_prob_lr[:,1])"
   ]
  },
  {
   "cell_type": "code",
   "execution_count": 181,
   "id": "bf3f34c7",
   "metadata": {},
   "outputs": [
    {
     "name": "stdout",
     "output_type": "stream",
     "text": [
      "[0.         0.         0.02439024 0.02439024 0.04878049 0.04878049\n",
      " 0.09756098 0.09756098 0.12195122 0.12195122 0.14634146 0.14634146\n",
      " 0.2195122  0.2195122  0.29268293 0.29268293 0.3902439  0.3902439\n",
      " 0.41463415 0.41463415 0.46341463 0.46341463 0.56097561 0.56097561\n",
      " 0.68292683 0.68292683 0.70731707 0.70731707 0.73170732 0.73170732\n",
      " 1.        ]\n",
      "[0.         0.03333333 0.03333333 0.33333333 0.33333333 0.36666667\n",
      " 0.36666667 0.4        0.4        0.53333333 0.53333333 0.6\n",
      " 0.6        0.63333333 0.63333333 0.7        0.7        0.73333333\n",
      " 0.73333333 0.76666667 0.76666667 0.83333333 0.83333333 0.86666667\n",
      " 0.86666667 0.93333333 0.93333333 0.96666667 0.96666667 1.\n",
      " 1.        ]\n",
      "0.7650406504065042\n"
     ]
    }
   ],
   "source": [
    "#ROC CURVE\n",
    "from sklearn import metrics\n",
    "\n",
    "fpr, tpr, thresholds = metrics.roc_curve(y_test, y_predict_prob_lr[:,1], pos_label='Yes')\n",
    "\n",
    "print(fpr)\n",
    "print(tpr)\n",
    "\n",
    "AUC = metrics.auc(fpr, tpr)\n",
    "print(AUC)"
   ]
  },
  {
   "cell_type": "code",
   "execution_count": 182,
   "id": "a8d451bd",
   "metadata": {},
   "outputs": [
    {
     "data": {
      "image/png": "[encoded data removed]",
      "text/plain": [
       "<Figure size 432x288 with 1 Axes>"
      ]
     },
     "metadata": {
      "needs_background": "light"
     },
     "output_type": "display_data"
    }
   ],
   "source": [
    "#Importing the \"pyplot\" package of \"matplotlib\" library of python to generate graphs and plot curves\n",
    "import matplotlib.pyplot as plt\n",
    "\n",
    "#to keep the figures inside the explorer page rather than opening a new figure window:\n",
    "%matplotlib inline\n",
    "\n",
    "plt.figure()\n",
    "\n",
    "#ROC Curve:\n",
    "plt.plot(fpr, tpr, color='red', lw=2, label='ROC Curve (area=%0.2f)' % AUC)\n",
    "\n",
    "#Random Guess Line:\n",
    "plt.plot([0,1], [0,1], color='blue', lw=1, linestyle='--')\n",
    "\n",
    "#Defining the range of X-axis and Y-axis:\n",
    "plt.xlim([-0.005, 1.005])\n",
    "plt.ylim([0.0, 1.01])\n",
    "\n",
    "#Labels, Title, Legend\n",
    "plt.xlabel('False Positive Rate')\n",
    "plt.ylabel('True Positive Rate')\n",
    "plt.title('ROC Curve')\n",
    "plt.legend(loc=\"lower right\")\n",
    "\n",
    "plt.show()\n"
   ]
  }
 ],
 "metadata": {
  "kernelspec": {
   "display_name": "Python 3 (ipykernel)",
   "language": "python",
   "name": "python3"
  },
  "language_info": {
   "codemirror_mode": {
    "name": "ipython",
    "version": 3
   },
   "file_extension": ".py",
   "mimetype": "text/x-python",
   "name": "python",
   "nbconvert_exporter": "python",
   "pygments_lexer": "ipython3",
   "version": "3.9.12"
  }
 },
 "nbformat": 4,
 "nbformat_minor": 5
}
