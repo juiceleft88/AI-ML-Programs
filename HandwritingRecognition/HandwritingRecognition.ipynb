{
 "cells": [
  {
   "cell_type": "code",
   "execution_count": 3,
   "id": "9a99c29f",
   "metadata": {
    "scrolled": true
   },
   "outputs": [
    {
     "ename": "NameError",
     "evalue": "name 'df' is not defined",
     "output_type": "error",
     "traceback": [
      "\u001b[0;31m---------------------------------------------------------------------------\u001b[0m",
      "\u001b[0;31mNameError\u001b[0m                                 Traceback (most recent call last)",
      "Input \u001b[0;32mIn [3]\u001b[0m, in \u001b[0;36m<cell line: 45>\u001b[0;34m()\u001b[0m\n\u001b[1;32m     42\u001b[0m \u001b[38;5;66;03m#Reading label csv and only using the \"digit label\" values\u001b[39;00m\n\u001b[1;32m     43\u001b[0m labels \u001b[38;5;241m=\u001b[39m label_data[\u001b[38;5;124m\"\u001b[39m\u001b[38;5;124mdigit label\u001b[39m\u001b[38;5;124m\"\u001b[39m]\n\u001b[0;32m---> 45\u001b[0m \u001b[43mdf\u001b[49m\u001b[38;5;241m.\u001b[39mhead()\n",
      "\u001b[0;31mNameError\u001b[0m: name 'df' is not defined"
     ]
    }
   ],
   "source": [
    "#Importing libraries, then building the feature and label matrix for the images\n",
    "import os\n",
    "import numpy as np\n",
    "import pandas as pd\n",
    "import matplotlib.image as mpimg\n",
    "import matplotlib.pyplot as plt\n",
    "\n",
    "%matplotlib inline \n",
    "\n",
    "images = []\n",
    "#To get the number of images in the directory\n",
    "dir_entries = os.listdir(\"../4661Assignment5/Digit/\")\n",
    "\n",
    "#To remove the hidden non-jpg file from list of images\n",
    "if '.DS_Store' in dir_entries:\n",
    "    dir_entries.remove('.DS_Store')\n",
    "    \n",
    "dir_length = len(dir_entries)\n",
    "\n",
    "#To sort the files in ascending order, ex: 0.jpg, 1.jpg, 2.jpg, etc..\n",
    "dir_sorted = sorted(dir_entries, key=lambda x: int(os.path.splitext(x)[0]))\n",
    "\n",
    "#Loop to iterate through the sorted image files, load them, then add them to the images list\n",
    "for i in range(len(dir_sorted)):\n",
    "    path = \"../4661Assignment5/Digit/\"+str(i)+\".jpg\"\n",
    "    image_name = mpimg.imread(path)\n",
    "    images.append(image_name)\n",
    "\n",
    "#Declaring a list which will hold the reshaped images in the following loop\n",
    "feature_list = []\n",
    "\n",
    "#Using a loop that iterates through all the list of images, reshapes them from 8x8 to an array of 64 elements, then adds each reshaped image to feature_list\n",
    "for i in range(len(images)):\n",
    "    feature = images[i].reshape(64)\n",
    "    feature_list.append(feature)\n",
    "\n",
    "#Converting the feature_list to a numpy array so it is easier to use and manipulate if needed\n",
    "feat_matrix = np.asarray(feature_list)  \n",
    "\n",
    "#Creating the label vector, first by reading in the csv from file into a dataframe, then specifiying what info we want to use\n",
    "label_data = pd.read_csv(\"../4661Assignment5/label.csv\")\n",
    "#Reading label csv and only using the \"digit label\" values\n",
    "labels = label_data[\"digit label\"]\n",
    "\n",
    "df.head()\n",
    "\n"
   ]
  },
  {
   "cell_type": "code",
   "execution_count": null,
   "id": "307018b4",
   "metadata": {
    "scrolled": true
   },
   "outputs": [],
   "source": [
    "#Splitting the dataset and using Random Forest classifier to recognize the hand-written digits based on the training/testing datasets\n",
    "from sklearn.model_selection import train_test_split\n",
    "from sklearn.ensemble import RandomForestClassifier\n",
    "from sklearn.metrics import accuracy_score\n",
    "\n",
    "#Splitting the dataset\n",
    "X_train, X_test, y_train, y_test = train_test_split(feat_matrix, labels, test_size=0.1, random_state=2)\n",
    "\n",
    "#Random Forest classifier\n",
    "my_RandomForest = RandomForestClassifier(n_estimators = 19, bootstrap = True, random_state=2)\n",
    "\n",
    "#Training the model\n",
    "my_RandomForest.fit(X_train, y_train)\n",
    "\n",
    "#Testing the model\n",
    "y_predict_rf = my_RandomForest.predict(X_test)\n",
    "\n",
    "#getting the accuracy score\n",
    "rf_acc = accuracy_score(y_test, y_predict_rf)\n",
    "\n",
    "#printing the accuracy\n",
    "print(\"Random Forest accuracy is: \", rf_acc)"
   ]
  },
  {
   "cell_type": "code",
   "execution_count": null,
   "id": "67eb94c2",
   "metadata": {},
   "outputs": [],
   "source": [
    "#Finding which one of the data samples (i.e. which images) have been misclassified (classified incorrectly) in the testing set\n",
    "\n",
    "#Getting the misclassified images. \n",
    "misclassified = X_test[y_predict_rf != y_test]\n",
    "print(\"The misclassified images are: \")\n",
    "\n",
    "#Using a loop to iterate throught the misclassified images, reshape back into an 8x8 image, then display them\n",
    "for image_name in misclassified:\n",
    "    misclassified_img = image_name.reshape(8,8)\n",
    "    plt.imshow(misclassified_img, cmap=plt.cm.gray_r, interpolation='nearest')\n",
    "    plt.show()\n",
    "    "
   ]
  }
 ],
 "metadata": {
  "kernelspec": {
   "display_name": "Python 3 (ipykernel)",
   "language": "python",
   "name": "python3"
  },
  "language_info": {
   "codemirror_mode": {
    "name": "ipython",
    "version": 3
   },
   "file_extension": ".py",
   "mimetype": "text/x-python",
   "name": "python",
   "nbconvert_exporter": "python",
   "pygments_lexer": "ipython3",
   "version": "3.9.12"
  }
 },
 "nbformat": 4,
 "nbformat_minor": 5
}
