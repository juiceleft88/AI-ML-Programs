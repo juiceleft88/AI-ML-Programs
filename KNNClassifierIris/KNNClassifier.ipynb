{
 "cells": [
  {
   "cell_type": "code",
   "execution_count": 16,
   "id": "0c9c2eb1",
   "metadata": {},
   "outputs": [],
   "source": [
    "#importing the necessary sklearn, pandas, and numpy libraries. \n",
    "from sklearn.neighbors import KNeighborsClassifier\n",
    "from sklearn.model_selection import train_test_split #to split the dataset into testing and training sets\n",
    "from sklearn.metrics import accuracy_score #To return the percent of correct predictions\n",
    "import pandas as pd\n",
    "import numpy as np\n"
   ]
  },
  {
   "cell_type": "code",
   "execution_count": 17,
   "id": "c75195cb",
   "metadata": {},
   "outputs": [],
   "source": [
    "#Creating a pandas dataframe from the provided dataset\n",
    "df = pd.read_csv('https://raw.githubusercontent.com/mpourhoma/CS4661/master/iris.csv')\n",
    "\n",
    "#creating a python list of feature names to pick from dataset\n",
    "feature_cols = ['sepal_length','sepal_width','petal_length','petal_width']\n",
    "\n",
    "X = df[feature_cols] #using feature_cols list to select features from original DataFrame\n",
    "y = df['species'] #using 'species' as a label"
   ]
  },
  {
   "cell_type": "code",
   "execution_count": 18,
   "id": "7236134e",
   "metadata": {},
   "outputs": [],
   "source": [
    "#Splitting the dataset into testing and training sets.\n",
    "X_train, X_test, y_train, y_test = train_test_split(X, y, test_size=0.4, random_state=6)"
   ]
  },
  {
   "cell_type": "code",
   "execution_count": 19,
   "id": "8cf79b7d",
   "metadata": {
    "scrolled": true
   },
   "outputs": [
    {
     "name": "stdout",
     "output_type": "stream",
     "text": [
      "0.9666666666666667\n"
     ]
    }
   ],
   "source": [
    "#Instantiating a KNN Object with k = 3 to use in training and testing the dataset\n",
    "k=3\n",
    "knn = KNeighborsClassifier(n_neighbors=k)\n",
    "\n",
    "#training only on the training set:\n",
    "knn.fit(X_train, y_train)\n",
    "\n",
    "#Testing on the testing set:\n",
    "y_predict = knn.predict(X_test)\n",
    "\n",
    "#Accuracy calculation for our previous prediction\n",
    "accuracy = accuracy_score(y_test, y_predict)\n",
    "print(accuracy)"
   ]
  },
  {
   "cell_type": "code",
   "execution_count": 20,
   "id": "322ffa2a",
   "metadata": {
    "scrolled": true
   },
   "outputs": [
    {
     "name": "stdout",
     "output_type": "stream",
     "text": [
      "Current value: 1\n",
      "0.95\n",
      "Current value: 5\n",
      "0.9833333333333333\n",
      "Current value: 7\n",
      "0.9666666666666667\n",
      "Current value: 11\n",
      "0.9666666666666667\n",
      "Current value: 15\n",
      "0.9333333333333333\n",
      "Current value: 27\n",
      "0.9166666666666666\n",
      "Current value: 59\n",
      "0.8166666666666667\n",
      "[0.95, 0.9833333333333333, 0.9666666666666667, 0.9666666666666667, 0.9333333333333333, 0.9166666666666666, 0.8166666666666667]\n"
     ]
    }
   ],
   "source": [
    "#loop to check the accuracy when using different k values for training\n",
    "\n",
    "knnVals = 0\n",
    "accuracy_list = [] #list to keep the accuracy scores\n",
    "kVals = [1, 5, 7, 11, 15, 27, 59] #our given values in step D of assignment\n",
    "\n",
    "for index in range(len(kVals)):\n",
    "    knnVals = kVals[index] #set knnVals variable to the current element in the kVals list\n",
    "    knn = KNeighborsClassifier(n_neighbors = knnVals) #instantiate the current knn object \n",
    "    knn.fit(X_train, y_train) #using the fit method along with training dataset and labels to train model\n",
    "    y_predict = knn.predict(X_test) #performing prediction and assigning it to y_predict\n",
    "    \n",
    "    #comparing the \"predicted labels\" for the Testing Set with its \"actual labels\" to evaluate the accuracy \n",
    "    accuracy = accuracy_score(y_test, y_predict)\n",
    "    accuracy_list.append(accuracy)\n",
    "    \n",
    "    print('Current value:', kVals[index]) #printing values just for our reference\n",
    "    print(accuracy) #printing accuracy scores for each index value\n",
    "    \n",
    "print(accuracy_list) #printing full list of accuracy values\n",
    "\n",
    "#We find that the accuracy does not always get better by increasing the value of K"
   ]
  },
  {
   "cell_type": "code",
   "execution_count": 21,
   "id": "52dabd01",
   "metadata": {
    "scrolled": false
   },
   "outputs": [
    {
     "name": "stdout",
     "output_type": "stream",
     "text": [
      "sepal_length - Accuracy :  0.7166666666666667\n",
      "sepal_width - Accuracy :  0.55\n",
      "petal_length - Accuracy :  0.9666666666666667\n",
      "petal_width - Accuracy :  0.95\n",
      "[0.7166666666666667, 0.55, 0.9666666666666667, 0.95]\n"
     ]
    }
   ],
   "source": [
    "#Here we will look to find the best single feature, so i used a loop in order to try each feature individually, then calucalte the accuracy.\n",
    "#I then place the accuracy scores in a list called singleFeatList. I use the Numpy array because I kept getting an error about the dimensions of my array,\n",
    "#therefore I reshaped the array using Numpy. I used the constant 3 for the K value.\n",
    "\n",
    "singleFeatList = []\n",
    "\n",
    "for index in range(len(feature_cols)):\n",
    "    X = df[[feature_cols[index]]]\n",
    "    y = df['species']\n",
    "    k=3\n",
    "    knn = KNeighborsClassifier(n_neighbors=k)\n",
    "    X_train, X_test, y_train, y_test = train_test_split(X, y, test_size=0.4, random_state=6)\n",
    "    knn.fit(X_train, y_train)\n",
    "    y_predict = knn.predict(X_test)\n",
    "    accuracy = accuracy_score(y_test, y_predict)\n",
    "    singleFeatList.append(accuracy)\n",
    "    \n",
    "    print(feature_cols[index], '- Accuracy : ', accuracy)\n",
    "    \n",
    "print(singleFeatList)\n",
    "\n",
    "#petal length was the individual feature that provided the best accuracy at 96.6% , followed closesly by petal width at 95%.\n",
    "#the list singleFeatList holds the accuracy results for each feature\n",
    "    "
   ]
  },
  {
   "cell_type": "code",
   "execution_count": 22,
   "id": "76e063a7",
   "metadata": {},
   "outputs": [
    {
     "name": "stdout",
     "output_type": "stream",
     "text": [
      "Accuracy for features: sepal_length+sepal_width is: 0.7833333333333333\n",
      "Accuracy for features: sepal_length+petal_length is: 0.9833333333333333\n",
      "Accuracy for features: sepal_length+petal_width is: 0.95\n",
      "Accuracy for features: sepal_width+petal_length is: 0.95\n",
      "Accuracy for features: sepal_width+petal_width is: 0.95\n",
      "Accuracy for features: petal_length+petal_width is: 0.9666666666666667\n",
      "[0.7833333333333333, 0.9833333333333333, 0.95, 0.95, 0.95, 0.9666666666666667]\n"
     ]
    }
   ],
   "source": [
    "#Repeating part e, but this time using two features instead of 1\n",
    "#To do this, I combined the feature pairs into a single element which I then placed into a list. \n",
    "#I also made another list of strings which held the names of the feature pairs to avoid confusion. \n",
    "#Then I created another list to hold the accuracies of the pairs found on each iteration\n",
    "#The for looped stepped through the list holding the feature pairs and calculated the accuracy of them, ultimately storing in the twoFeatAccuracy list\n",
    "\n",
    "sepal_length_sepal_width = df[feature_cols[0:2]] \n",
    "sepal_length_petal_length = df[feature_cols[0:3:2]]\n",
    "sepal_length_petal_width = df[feature_cols[0:4:3]]\n",
    "sepal_width_petal_length = df[feature_cols[1:4:2]]\n",
    "sepal_width_petal_width = df[feature_cols[1:4:2]]\n",
    "petal_length_petal_width = df[feature_cols[2:4]]\n",
    "\n",
    "twoFeatList = [sepal_length_sepal_width, sepal_length_petal_length, sepal_length_petal_width,\n",
    "              sepal_width_petal_length, sepal_width_petal_width, petal_length_petal_width]\n",
    "\n",
    "twoFeatNames = ['sepal_length+sepal_width', 'sepal_length+petal_length', 'sepal_length+petal_width',\n",
    "              'sepal_width+petal_length', 'sepal_width+petal_width', 'petal_length+petal_width']\n",
    "\n",
    "twoFeatAccuracy = []\n",
    "\n",
    "for index in range(len(twoFeatList)):\n",
    "    X = twoFeatList[index]\n",
    "    y = df['species']\n",
    "    k=3\n",
    "    knn = KNeighborsClassifier(n_neighbors=k)\n",
    "    X_train, X_test, y_train, y_test = train_test_split(X, y, test_size=0.4, random_state=6)\n",
    "    knn.fit(X_train, y_train)\n",
    "    y_predict = knn.predict(X_test)\n",
    "    accuracy = accuracy_score(y_test, y_predict)\n",
    "    twoFeatAccuracy.append(accuracy)\n",
    "    print('Accuracy for features:', twoFeatNames[index], 'is:', accuracy)\n",
    "    \n",
    "print(twoFeatAccuracy)\n",
    "\n",
    "#We can see with the outputted accuracies that the combination of the 1st and 3rd features (sepal length and petal length) gives us the\n",
    "#most accuracy at 98%.\n"
   ]
  },
  {
   "cell_type": "code",
   "execution_count": 23,
   "id": "b22e0082",
   "metadata": {},
   "outputs": [],
   "source": [
    "#While the most accurate \"best feature pair\" does include the \"first best feature\" from part E, petal length, it\n",
    "#does not include the \"second best [individual] feature\", which is petal width.\n",
    "#Interestingly though, the second most accurate feature pair, does contain the two best individual features, petal length and petal width."
   ]
  },
  {
   "cell_type": "code",
   "execution_count": 24,
   "id": "253bf709",
   "metadata": {},
   "outputs": [],
   "source": [
    "#I believe that the two best individual features do not combine to make the best feature pair because the k value may have been too low for testing feature pairs."
   ]
  },
  {
   "cell_type": "code",
   "execution_count": null,
   "id": "632c012a",
   "metadata": {},
   "outputs": [],
   "source": []
  }
 ],
 "metadata": {
  "kernelspec": {
   "display_name": "Python 3 (ipykernel)",
   "language": "python",
   "name": "python3"
  },
  "language_info": {
   "codemirror_mode": {
    "name": "ipython",
    "version": 3
   },
   "file_extension": ".py",
   "mimetype": "text/x-python",
   "name": "python",
   "nbconvert_exporter": "python",
   "pygments_lexer": "ipython3",
   "version": "3.9.12"
  }
 },
 "nbformat": 4,
 "nbformat_minor": 5
}
